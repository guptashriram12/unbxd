{
 "cells": [
  {
   "cell_type": "code",
   "execution_count": 3,
   "id": "f97ad013",
   "metadata": {},
   "outputs": [
    {
     "name": "stdout",
     "output_type": "stream",
     "text": [
      "the value of a is greater than 52\n"
     ]
    }
   ],
   "source": [
    "a=56\n",
    "if(a>65):\n",
    "    print('the value of a is grater than 65') # this all if,elif ,else combinely called ladder inme se keval ek exxecute hoga\n",
    "elif(a>52):\n",
    "    print(\"the value of a is greater than 52\") # we can use multiple elif statement but only one will execute\n",
    "elif(a>53):\n",
    "    print(\"the value of a is greater trhan 53\")\n",
    "else:\n",
    "    print(\"the value of a is not grater than 65 and 52\")"
   ]
  },
  {
   "cell_type": "code",
   "execution_count": 4,
   "id": "b108528a",
   "metadata": {},
   "outputs": [
    {
     "name": "stdout",
     "output_type": "stream",
     "text": [
      "the value of a is greater than 52\n",
      "the value of a is greater trhan 53\n"
     ]
    }
   ],
   "source": [
    "# multiple if sattement \n",
    "a=56\n",
    "if(a>65):\n",
    "    print('the value of a is grater than 65') # this all if,elif ,else combinely called ladder inme se keval ek exxecute hoga\n",
    "if(a>52):\n",
    "    print(\"the value of a is greater than 52\") #\n",
    "if(a>53):\n",
    "    print(\"the value of a is greater trhan 53\")\n",
    "else:\n",
    "    print(\"the value of a is not grater than 65 and 52\")\n",
    "# here fisrt and second if statement is completely independent of each other where as lasr if and else sattement will form ladder actually\n",
    "# so  that alst one is not completely indepeendent of each other agar ek false higa tabhie dusre pee jump karega \n"
   ]
  },
  {
   "cell_type": "code",
   "execution_count": 5,
   "id": "eb3c91a2",
   "metadata": {},
   "outputs": [
    {
     "name": "stdout",
     "output_type": "stream",
     "text": [
      "greater\n"
     ]
    }
   ],
   "source": [
    "a=22\n",
    "if(a>9):\n",
    "    print(\"greater\")\n",
    "else:\n",
    "    print(\"lesser\")"
   ]
  },
  {
   "cell_type": "code",
   "execution_count": 10,
   "id": "ab9ae169",
   "metadata": {},
   "outputs": [
    {
     "name": "stdout",
     "output_type": "stream",
     "text": [
      "enter your age 17\n",
      "no\n"
     ]
    }
   ],
   "source": [
    "# quick quizz\n",
    "x=int(input(\"enter your age \"))\n",
    "if (x>=18):\n",
    "    print(\"yes\")\n",
    "else:\n",
    "    print(\"no\")"
   ]
  },
  {
   "cell_type": "code",
   "execution_count": 11,
   "id": "16428c61",
   "metadata": {},
   "outputs": [
    {
     "name": "stdout",
     "output_type": "stream",
     "text": [
      "enter your age ;31\n",
      "you can work with us \n"
     ]
    }
   ],
   "source": [
    "# logical operators \n",
    "age=int(input(\"enter your age ;\")) # here we have used and stateement so if both sattemeent aree true result will true \n",
    "if (age>23 and age<32):\n",
    "    print(\"you can work with us \")\n",
    "else:\n",
    "    print(\"you cannot work with us \")"
   ]
  },
  {
   "cell_type": "code",
   "execution_count": 15,
   "id": "5694d652",
   "metadata": {},
   "outputs": [
    {
     "name": "stdout",
     "output_type": "stream",
     "text": [
      "enter your age ;11\n",
      "you can work with us \n"
     ]
    }
   ],
   "source": [
    "age=int(input(\"enter your age ;\"))\n",
    "if (age>23 or age<32):\n",
    "    print(\"you can work with us \")    # hee we have used or stateememnt if one stateement is true and other statement is false then also it will give true result\n",
    "else:\n",
    "    print(\"you cannot work with us \")"
   ]
  },
  {
   "cell_type": "code",
   "execution_count": 16,
   "id": "9822ac65",
   "metadata": {},
   "outputs": [
    {
     "name": "stdout",
     "output_type": "stream",
     "text": [
      "yes\n"
     ]
    }
   ],
   "source": [
    "# is or in statement \n",
    "a=None\n",
    "if(a is None ):\n",
    "    print(\"yes\")\n",
    "else:\n",
    "    print('no')"
   ]
  },
  {
   "cell_type": "code",
   "execution_count": 17,
   "id": "5c64d21c",
   "metadata": {},
   "outputs": [
    {
     "name": "stdout",
     "output_type": "stream",
     "text": [
      "True\n"
     ]
    }
   ],
   "source": [
    "# in operator\n",
    "a=[2,56,98]\n",
    "print(56 in a)"
   ]
  },
  {
   "cell_type": "code",
   "execution_count": 18,
   "id": "0578f0cf",
   "metadata": {},
   "outputs": [
    {
     "name": "stdout",
     "output_type": "stream",
     "text": [
      "no and yes \n"
     ]
    }
   ],
   "source": [
    "a=67\n",
    "if(a==7):\n",
    "    print(\"yes\")\n",
    "elif(a>56):\n",
    "    print('no and yes ')\n",
    "# else is optional"
   ]
  },
  {
   "cell_type": "code",
   "execution_count": null,
   "id": "8038c7bd",
   "metadata": {},
   "outputs": [],
   "source": [
    "# practice 6 \n",
    "num1=int(input(\"enter a number1\"))\n",
    "num2=int(input(\"enter a number2\"))\n",
    "num3=int(input(\"enter a number3\"))\n",
    "num4=int(input(\"enter a number4\"))\n",
    "\n"
   ]
  }
 ],
 "metadata": {
  "kernelspec": {
   "display_name": "Python 3 (ipykernel)",
   "language": "python",
   "name": "python3"
  },
  "language_info": {
   "codemirror_mode": {
    "name": "ipython",
    "version": 3
   },
   "file_extension": ".py",
   "mimetype": "text/x-python",
   "name": "python",
   "nbconvert_exporter": "python",
   "pygments_lexer": "ipython3",
   "version": "3.10.1"
  }
 },
 "nbformat": 4,
 "nbformat_minor": 5
}
