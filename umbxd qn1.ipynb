{
 "cells": [
  {
   "cell_type": "code",
   "execution_count": 7,
   "id": "20d4159c",
   "metadata": {},
   "outputs": [
    {
     "name": "stdout",
     "output_type": "stream",
     "text": [
      "The input is  \n",
      "longest substring is  0\n"
     ]
    }
   ],
   "source": [
    "def longsub(s):\n",
    "    \n",
    "    n = len(s)\n",
    "    string = 0\n",
    "  \n",
    "    for i in range(n):\n",
    "        visited = [0] * 256  \n",
    "  \n",
    "        for j in range(i, n):\n",
    "        \n",
    "        # ord used for returning unique character from given string\n",
    "  \n",
    "            if (visited[ord(s[j])] == True):\n",
    "                break\n",
    "  \n",
    "\n",
    "            else:\n",
    "                res = max(string, j - i + 1)\n",
    "                visited[ord(s[j])] = True\n",
    "             \n",
    "    \n",
    "        visited[ord(s[i])] = False\n",
    "     \n",
    "    return string\n",
    " \n",
    "\n",
    "s = \"\"\n",
    "print(\"The input is \", s)\n",
    " \n",
    "l = longsub(s)\n",
    "print(\"longest substring is \", l)\n",
    " \n"
   ]
  },
  {
   "cell_type": "code",
   "execution_count": null,
   "id": "eebbde12",
   "metadata": {},
   "outputs": [],
   "source": []
  }
 ],
 "metadata": {
  "kernelspec": {
   "display_name": "Python 3 (ipykernel)",
   "language": "python",
   "name": "python3"
  },
  "language_info": {
   "codemirror_mode": {
    "name": "ipython",
    "version": 3
   },
   "file_extension": ".py",
   "mimetype": "text/x-python",
   "name": "python",
   "nbconvert_exporter": "python",
   "pygments_lexer": "ipython3",
   "version": "3.10.1"
  }
 },
 "nbformat": 4,
 "nbformat_minor": 5
}
